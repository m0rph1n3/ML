{
 "cells": [
  {
   "cell_type": "code",
   "execution_count": 1,
   "metadata": {},
   "outputs": [],
   "source": [
    "import numpy as np\n",
    "import matplotlib.pyplot as plt\n",
    "from sklearn import linear_model"
   ]
  },
  {
   "cell_type": "code",
   "execution_count": 10,
   "metadata": {},
   "outputs": [
    {
     "data": {
      "image/png": "[encoded data removed]",
      "text/plain": [
       "<Figure size 432x288 with 1 Axes>"
      ]
     },
     "metadata": {
      "needs_background": "light"
     },
     "output_type": "display_data"
    }
   ],
   "source": [
    "# create our dataset\n",
    "dataset = [\n",
    "    [8.5 , 26 ],\n",
    "    [ 7.2,22 ],\n",
    "    [ 10,32 ],\n",
    "    [ 5.2, 15],\n",
    "    [ 2,18 ],\n",
    "    [ 3.5,13 ],\n",
    "    [ 8, 19],\n",
    "    [ 9,31 ]]\n",
    "\n",
    "x = np.array([[example[0]] for example in dataset])\n",
    "y = np.array([[example[1]] for example in dataset])\n",
    "\n",
    "#visualize our dataset\n",
    "plt.scatter(x,y, color ='blue')\n",
    "plt.show()\n"
   ]
  },
  {
   "cell_type": "code",
   "execution_count": 13,
   "metadata": {},
   "outputs": [
    {
     "name": "stdout",
     "output_type": "stream",
     "text": [
      "mean error is: 14.394185214981677\n",
      "Linear equation:2.0577455975686054\n"
     ]
    }
   ],
   "source": [
    "#create linear regretion \n",
    "\n",
    "model = linear_model.LinearRegression()\n",
    "\n",
    "#train the model\n",
    "model.fit(x, y)\n",
    "y_prime = model.predict(x)\n",
    "\n",
    "#the meam squared error\n",
    "mean_square_error = np.mean((y_prime - y)** 2)\n",
    "print(\"mean error is: {}\".format(mean_square_error))\n",
    "\n",
    "# the coeficient\n",
    "print('Linear equation:{}'.format(model.coef_[0][0], model.intercept_[0]))\n"
   ]
  },
  {
   "cell_type": "code",
   "execution_count": 14,
   "metadata": {},
   "outputs": [
    {
     "data": {
      "text/plain": [
       "[<matplotlib.lines.Line2D at 0x6a5ea20>]"
      ]
     },
     "execution_count": 14,
     "metadata": {},
     "output_type": "execute_result"
    },
    {
     "data": {
      "image/png": "[encoded data removed]",
      "text/plain": [
       "<Figure size 432x288 with 1 Axes>"
      ]
     },
     "metadata": {
      "needs_background": "light"
     },
     "output_type": "display_data"
    }
   ],
   "source": [
    "#plot the out put\n",
    "plt.scatter(x,y, color='blue')\n",
    "plt.plot(x,y_prime,color='purple',linewidth =3)"
   ]
  },
  {
   "cell_type": "code",
   "execution_count": 15,
   "metadata": {},
   "outputs": [
    {
     "name": "stdout",
     "output_type": "stream",
     "text": [
      "[[25.75538572]\n",
      " [23.08031644]\n",
      " [28.84200411]\n",
      " [18.96482524]\n",
      " [12.38003933]\n",
      " [15.46665773]\n",
      " [24.72651292]\n",
      " [26.78425851]]\n"
     ]
    }
   ],
   "source": [
    "print (y_prime)"
   ]
  }
 ],
 "metadata": {
  "kernelspec": {
   "display_name": "Python 3",
   "language": "python",
   "name": "python3"
  },
  "language_info": {
   "codemirror_mode": {
    "name": "ipython",
    "version": 3
   },
   "file_extension": ".py",
   "mimetype": "text/x-python",
   "name": "python",
   "nbconvert_exporter": "python",
   "pygments_lexer": "ipython3",
   "version": "3.7.1"
  }
 },
 "nbformat": 4,
 "nbformat_minor": 2
}
