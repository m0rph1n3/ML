{
 "cells": [
  {
   "cell_type": "code",
   "execution_count": 1,
   "metadata": {},
   "outputs": [],
   "source": [
    "%matplotlib notebook\n",
    "\n",
    "import numpy as np\n",
    "import pandas as pd\n",
    "import matplotlib.pyplot as plt\n",
    "import sklearn\n",
    "from sklearn.model_selection import train_test_split\n",
    "from sklearn.linear_model import LinearRegression, Ridge, Lasso, ElasticNet\n",
    "import seaborn as sns\n",
    "import csv\n",
    "from sklearn.model_selection import KFold\n",
    "from sklearn.model_selection import GridSearchCV\n",
    "pd.set_option('display.max_columns',None)"
   ]
  },
  {
   "cell_type": "code",
   "execution_count": 2,
   "metadata": {},
   "outputs": [],
   "source": [
    "#\n",
    "\n",
    "def get_data():\n",
    "    data_frame = pd.read_csv('C:/temp/train.csv',nrows = 2000)\n",
    "    exclude_from_transformation = ['id', 'click', 'hour', 'device_ip', 'device_id']    \n",
    "    headers = data_frame.columns.tolist()\n",
    "    for header in headers:\n",
    "        if header in exclude_from_transformation:\n",
    "            continue\n",
    "        one_hot = pd.get_dummies(data_frame[header], prefix=header)\n",
    "        data_frame = data_frame.drop(header, axis=1)\n",
    "        data_frame = data_frame.join(one_hot)\n",
    "        X = data_frame.drop(['click','id','hour','device_ip','device_id'], axis=1)\n",
    "        Y = data_frame['click']\n",
    "        X_train, X_test, Y_train, Y_test = train_test_split(X,Y,test_size=1/4., random_state=0)\n",
    "        \n",
    "        return X_train, X_test, Y_train, Y_test\n",
    "    \n",
    "X_train, X_test, Y_train, Y_test = get_data()    \n",
    "    \n",
    "    "
   ]
  },
  {
   "cell_type": "code",
   "execution_count": 7,
   "metadata": {},
   "outputs": [
    {
     "data": {
      "text/plain": [
       "(500, 23)"
      ]
     },
     "execution_count": 7,
     "metadata": {},
     "output_type": "execute_result"
    }
   ],
   "source": [
    "#\n",
    "from sklearn.externals import joblib\n",
    "\n",
    "\n",
    "#model = joblib.load(open('C:/temp/ad_model.pkl', 'rb'))\n",
    "model = joblib.load('C:/temp/ad_model.pkl')\n",
    "ad_data, click_labels = X_test[:5], Y_test[:5]\n",
    "#sample bid\n",
    "bids = [10,20,5,12,2]\n",
    "X_test.shape"
   ]
  }
 ],
 "metadata": {
  "kernelspec": {
   "display_name": "Python 3",
   "language": "python",
   "name": "python3"
  },
  "language_info": {
   "codemirror_mode": {
    "name": "ipython",
    "version": 3
   },
   "file_extension": ".py",
   "mimetype": "text/x-python",
   "name": "python",
   "nbconvert_exporter": "python",
   "pygments_lexer": "ipython3",
   "version": "3.7.1"
  }
 },
 "nbformat": 4,
 "nbformat_minor": 2
}
